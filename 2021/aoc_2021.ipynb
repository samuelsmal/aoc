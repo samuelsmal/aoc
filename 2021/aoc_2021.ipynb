{
 "cells": [
  {
   "cell_type": "code",
   "execution_count": 61,
   "id": "73ec162f-75d7-435e-a8d9-c16ff957a4ac",
   "metadata": {},
   "outputs": [],
   "source": [
    "from typing import Tuple\n",
    "from functools import reduce\n",
    "from operator import mul\n",
    "import numpy as np"
   ]
  },
  {
   "cell_type": "code",
   "execution_count": 10,
   "id": "9f4c722a-7cf1-49d2-878a-bc1693471dab",
   "metadata": {},
   "outputs": [],
   "source": [
    "def read_input(day):\n",
    "    with open(f\"./input/day_{day}.txt\") as f:\n",
    "        return [l.strip() for l in f]\n",
    "    \n",
    "def quantify(iterable, pred):\n",
    "    return sum(map(pred, iterable))"
   ]
  },
  {
   "cell_type": "code",
   "execution_count": 11,
   "id": "72f4ff50-3ab1-4536-88f3-f91c57f3d544",
   "metadata": {},
   "outputs": [
    {
     "data": {
      "text/plain": [
       "(1791, 1822)"
      ]
     },
     "execution_count": 11,
     "metadata": {},
     "output_type": "execute_result"
    }
   ],
   "source": [
    "def solution_day_1():\n",
    "    day_1_input = [int(i) for i in read_input(1)]\n",
    "    sol_part_a = quantify(zip(day_1_input[0:], day_1_input[1:]), lambda x: x[1] > x[0])\n",
    "    \n",
    "    day_1_input = list(map(sum, (zip(day_1_input[0:], day_1_input[1:], day_1_input[2:]))))\n",
    "    sol_part_b = quantify(zip(day_1_input[0:], day_1_input[1:]), lambda x: x[1] > x[0])\n",
    "    \n",
    "    return sol_part_a, sol_part_b\n",
    "\n",
    "solution_day_1()"
   ]
  },
  {
   "cell_type": "code",
   "execution_count": 47,
   "id": "d1ed6b7e-8607-41d9-b0c2-940a0247810d",
   "metadata": {},
   "outputs": [
    {
     "data": {
      "text/plain": [
       "(1714680, 1963088820)"
      ]
     },
     "execution_count": 47,
     "metadata": {},
     "output_type": "execute_result"
    }
   ],
   "source": [
    "def solution_day_2():\n",
    "    initial_position = (0, 0)\n",
    "    day_2_input = read_input(2)\n",
    "    \n",
    "    def tuple_sum(a, b):\n",
    "        return [sum(x) for x in zip(a, b)]\n",
    "\n",
    "    def val(s: str) -> int:\n",
    "        return int(s.split(' ')[1])\n",
    "\n",
    "    def transform_a(s: str) -> Tuple[int, int]:\n",
    "        if s.startswith('forward'):\n",
    "            return val(s), 0\n",
    "        elif s.startswith('down'):\n",
    "            return 0, val(s)\n",
    "        else:\n",
    "            return 0, -1 * val(s)\n",
    "        \n",
    "    def final_position(transform_fn):\n",
    "         return reduce(tuple_sum, map(transform_fn, day_2_input), initial_position)\n",
    "        \n",
    "    sol_2_a = mul(*final_position(transform))\n",
    "    \n",
    "    def transform_b(current_pos, command) -> Tuple[int, int]:\n",
    "        x = val(command)\n",
    "        if command.startswith('forward'):\n",
    "            return current_pos[0] + x, current_pos[1] + current_pos[2] * x, current_pos[2]\n",
    "        elif command.startswith('down'):\n",
    "            return current_pos[0], current_pos[1], current_pos[2] + x\n",
    "        else:\n",
    "            return current_pos[0], current_pos[1], current_pos[2] - x\n",
    "\n",
    "    sol_2_b = mul(*reduce(transform_b, day_2_input, (0, 0, 0))[:-1])\n",
    "    \n",
    "    return sol_2_a, sol_2_b\n",
    "\n",
    "solution_day_2()"
   ]
  },
  {
   "cell_type": "code",
   "execution_count": 49,
   "id": "6d589919-2aa0-43c3-902c-46c46a9d8e05",
   "metadata": {},
   "outputs": [],
   "source": [
    "sample_input_day_3 = [\n",
    "'00100',\n",
    "'11110',\n",
    "'10110',\n",
    "'10111',\n",
    "'10101',\n",
    "'01111',\n",
    "'00111',\n",
    "'11100',\n",
    "'10000',\n",
    "'11001',\n",
    "'00010',\n",
    "'01010']"
   ]
  },
  {
   "cell_type": "code",
   "execution_count": 107,
   "id": "46111cc4-3e7b-4c47-a78d-f7a9d6b3d961",
   "metadata": {},
   "outputs": [
    {
     "data": {
      "text/plain": [
       "(741950, 903810)"
      ]
     },
     "execution_count": 107,
     "metadata": {},
     "output_type": "execute_result"
    }
   ],
   "source": [
    "def solution_day_3():\n",
    "    def binary_array_to_int(arr):\n",
    "        return int(''.join(arr.astype(int).astype(str)), 2)\n",
    "    \n",
    "    day_input = read_input(3)\n",
    "    bits = np.array([[*(int(i) for i in l)] for l in day_input])\n",
    "\n",
    "    gamma = (np.sum(bits, axis=0) > len(bits) / 2)\n",
    "    epsilon = binary_array_to_int(gamma == False)\n",
    "    gamma = binary_array_to_int(gamma)\n",
    "    \n",
    "    sol_a = gamma * epsilon\n",
    "\n",
    "    def rating(bits, mode):\n",
    "        bits = np.copy(bits)\n",
    "\n",
    "        pos = 0\n",
    "\n",
    "        while len(bits) > 1:\n",
    "            bit_sum = bits[:, pos].sum()\n",
    "\n",
    "            if bit_sum == len(bits) / 2: # 1 & 0 occur equally \n",
    "                if mode == 'most_common':\n",
    "                    bit_criteria = 1\n",
    "                else:\n",
    "                    bit_criteria = 0\n",
    "            else:\n",
    "                if mode == 'most_common':\n",
    "                    bit_criteria = int(bit_sum > len(bits) / 2)\n",
    "                else:\n",
    "                    bit_criteria = int(bit_sum < len(bits) / 2)\n",
    "\n",
    "            bits = bits[bits[:, pos] == bit_criteria]\n",
    "            pos += 1\n",
    "    \n",
    "        return binary_array_to_int(bits[0])\n",
    "    \n",
    "    \n",
    "    return sol_a, rating(bits, 'most_common') * rating(bits, 'least_common')\n",
    "\n",
    "solution_day_3()"
   ]
  },
  {
   "cell_type": "code",
   "execution_count": 263,
   "id": "c8598bbd-b085-40e6-a45b-9541eb13a14b",
   "metadata": {},
   "outputs": [],
   "source": [
    "def solution_day_4():\n",
    "    def read_input_4(day):\n",
    "        def read_board(f):\n",
    "            f.readline()\n",
    "\n",
    "            return np.array([[int(i) for i in f.readline().strip().split(' ') if i != ''] for _ in range(5)])\n",
    "\n",
    "        with open(f\"./input/day_{day}.txt\") as f:\n",
    "            numbers = [int(i) for i in f.readline().strip().split(',')]\n",
    "            boards = np.array([read_board(f) for _ in range(3)])\n",
    "\n",
    "            return numbers, boards\n",
    "        \n",
    "    numbers, boards = read_input_4(4)\n",
    "\n",
    "    board_markers = np.zeros_like(boards, dtype=bool)\n",
    "\n",
    "    for i, n in enumerate(numbers):\n",
    "        board_markers = np.logical_or(board_markers, boards == n)\n",
    "\n",
    "        for ax in range(1, 3):\n",
    "            if np.any(winner_index := np.sum(board_markers, axis=ax) == 5):\n",
    "                scores = np.ma.masked_where(board_markers, boards).sum(axis=2).sum(axis=1)\n",
    "                winning_score = scores[np.any(winner_index, axis=1)][0] * n\n",
    "\n",
    "                return winning_score"
   ]
  },
  {
   "cell_type": "code",
   "execution_count": 264,
   "id": "b45a1a58-d0eb-4550-9a0b-6dfe817f0919",
   "metadata": {},
   "outputs": [
    {
     "data": {
      "text/plain": [
       "52668"
      ]
     },
     "execution_count": 264,
     "metadata": {},
     "output_type": "execute_result"
    }
   ],
   "source": [
    "solution_day_4()"
   ]
  },
  {
   "cell_type": "code",
   "execution_count": 258,
   "id": "942f8a71-c612-47b8-8804-afd282807169",
   "metadata": {},
   "outputs": [
    {
     "data": {
      "text/plain": [
       "array([[[False, False,  True,  True,  True],\n",
       "        [False,  True,  True,  True,  True],\n",
       "        [ True,  True,  True, False,  True],\n",
       "        [False, False, False, False,  True],\n",
       "        [False, False, False, False, False]],\n",
       "\n",
       "       [[False, False,  True,  True, False],\n",
       "        [ True, False, False,  True,  True],\n",
       "        [False, False,  True, False,  True],\n",
       "        [False,  True, False,  True,  True],\n",
       "        [ True,  True, False, False, False]],\n",
       "\n",
       "       [[ True,  True,  True,  True,  True],\n",
       "        [False, False, False,  True, False],\n",
       "        [False, False,  True, False, False],\n",
       "        [False,  True, False, False,  True],\n",
       "        [ True,  True, False, False,  True]]])"
      ]
     },
     "execution_count": 258,
     "metadata": {},
     "output_type": "execute_result"
    }
   ],
   "source": [
    "board_markers"
   ]
  },
  {
   "cell_type": "code",
   "execution_count": 259,
   "id": "f1fef975-d350-46e5-b2d2-384507993e5c",
   "metadata": {},
   "outputs": [
    {
     "data": {
      "text/plain": [
       "array([[False, False, False, False, False],\n",
       "       [False, False, False, False, False],\n",
       "       [ True, False, False, False, False]])"
      ]
     },
     "execution_count": 259,
     "metadata": {},
     "output_type": "execute_result"
    }
   ],
   "source": [
    "winner_index"
   ]
  },
  {
   "cell_type": "code",
   "execution_count": 260,
   "id": "6fecd65b-113e-4556-81dc-4a3172b5b756",
   "metadata": {},
   "outputs": [
    {
     "data": {
      "text/plain": [
       "4512"
      ]
     },
     "execution_count": 260,
     "metadata": {},
     "output_type": "execute_result"
    }
   ],
   "source": [
    "winning_score"
   ]
  },
  {
   "cell_type": "code",
   "execution_count": 167,
   "id": "a2d8a664-cd91-4094-b74d-b730038ddaae",
   "metadata": {},
   "outputs": [
    {
     "data": {
      "text/plain": [
       "array([[False, False, False, False, False],\n",
       "       [False, False, False, False, False],\n",
       "       [ True, False, False, False, False]])"
      ]
     },
     "execution_count": 167,
     "metadata": {},
     "output_type": "execute_result"
    }
   ],
   "source": [
    "np.sum(board_markers, axis=2) == 5"
   ]
  },
  {
   "cell_type": "code",
   "execution_count": 168,
   "id": "cb3896d4-4972-4c6c-80aa-a4a26b26d645",
   "metadata": {},
   "outputs": [],
   "source": [
    "winner_index = np.sum(board_markers, axis=2) == 5"
   ]
  },
  {
   "cell_type": "code",
   "execution_count": 241,
   "id": "af879bb6-78cf-4229-8d9f-548e7751cbb6",
   "metadata": {},
   "outputs": [
    {
     "data": {
      "text/plain": [
       "array([[False, False, False, False, False],\n",
       "       [False, False, False, False, False],\n",
       "       [ True, False, False, False, False]])"
      ]
     },
     "execution_count": 241,
     "metadata": {},
     "output_type": "execute_result"
    }
   ],
   "source": [
    "winner_index"
   ]
  },
  {
   "cell_type": "code",
   "execution_count": 244,
   "id": "fa1669cc-9af0-4b23-af2d-88e74ea5e2b5",
   "metadata": {},
   "outputs": [
    {
     "data": {
      "text/plain": [
       "array([False, False,  True])"
      ]
     },
     "execution_count": 244,
     "metadata": {},
     "output_type": "execute_result"
    }
   ],
   "source": []
  },
  {
   "cell_type": "code",
   "execution_count": null,
   "id": "5929bd3b-d4b0-4f4c-ac5f-b1d21494e894",
   "metadata": {},
   "outputs": [],
   "source": [
    "winner_index"
   ]
  },
  {
   "cell_type": "code",
   "execution_count": 229,
   "id": "cece55be-1174-405c-b1d5-d30e44c4117d",
   "metadata": {},
   "outputs": [
    {
     "data": {
      "text/plain": [
       "masked_array(\n",
       "  data=[[[22, 13, --, --, --],\n",
       "         [8, --, --, --, --],\n",
       "         [--, --, --, 16, --],\n",
       "         [6, 10, 3, 18, --],\n",
       "         [1, 12, 20, 15, 19]],\n",
       "\n",
       "        [[3, 15, --, --, 22],\n",
       "         [--, 18, 13, --, --],\n",
       "         [19, 8, --, 25, --],\n",
       "         [20, --, 10, --, --],\n",
       "         [--, --, 16, 12, 6]],\n",
       "\n",
       "        [[--, --, --, --, --],\n",
       "         [10, 16, 15, --, 19],\n",
       "         [18, 8, --, 26, 20],\n",
       "         [22, --, 13, 6, --],\n",
       "         [--, --, 12, 3, --]]],\n",
       "  mask=[[[False, False,  True,  True,  True],\n",
       "         [False,  True,  True,  True,  True],\n",
       "         [ True,  True,  True, False,  True],\n",
       "         [False, False, False, False,  True],\n",
       "         [False, False, False, False, False]],\n",
       "\n",
       "        [[False, False,  True,  True, False],\n",
       "         [ True, False, False,  True,  True],\n",
       "         [False, False,  True, False,  True],\n",
       "         [False,  True, False,  True,  True],\n",
       "         [ True,  True, False, False, False]],\n",
       "\n",
       "        [[ True,  True,  True,  True,  True],\n",
       "         [False, False, False,  True, False],\n",
       "         [False, False,  True, False, False],\n",
       "         [False,  True, False, False,  True],\n",
       "         [ True,  True, False, False,  True]]],\n",
       "  fill_value=999999)"
      ]
     },
     "execution_count": 229,
     "metadata": {},
     "output_type": "execute_result"
    }
   ],
   "source": [
    "np.ma.masked_where(board_markers, boards)"
   ]
  },
  {
   "cell_type": "code",
   "execution_count": 240,
   "id": "65c95d21-7446-4191-bac8-1cd18de2fd1f",
   "metadata": {},
   "outputs": [
    {
     "data": {
      "text/plain": [
       "masked_array(data=[163, 187, 188],\n",
       "             mask=[False, False, False],\n",
       "       fill_value=999999)"
      ]
     },
     "execution_count": 240,
     "metadata": {},
     "output_type": "execute_result"
    }
   ],
   "source": []
  },
  {
   "cell_type": "code",
   "execution_count": 212,
   "id": "0f00dfbb-ebc7-48ef-b947-e3f350eeb01c",
   "metadata": {},
   "outputs": [
    {
     "data": {
      "text/plain": [
       "137"
      ]
     },
     "execution_count": 212,
     "metadata": {},
     "output_type": "execute_result"
    }
   ],
   "source": [
    "sum((80, 9, 23, 16, 9))"
   ]
  }
 ],
 "metadata": {
  "kernelspec": {
   "display_name": "Python 3 (ipykernel)",
   "language": "python",
   "name": "python3"
  },
  "language_info": {
   "codemirror_mode": {
    "name": "ipython",
    "version": 3
   },
   "file_extension": ".py",
   "mimetype": "text/x-python",
   "name": "python",
   "nbconvert_exporter": "python",
   "pygments_lexer": "ipython3",
   "version": "3.12.0"
  }
 },
 "nbformat": 4,
 "nbformat_minor": 5
}
